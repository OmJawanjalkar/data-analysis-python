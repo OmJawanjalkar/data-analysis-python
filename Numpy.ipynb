{
 "cells": [
  {
   "cell_type": "code",
   "execution_count": 56,
   "id": "6fe7d03f",
   "metadata": {},
   "outputs": [],
   "source": [
    "import numpy as np"
   ]
  },
  {
   "cell_type": "code",
   "execution_count": 57,
   "id": "0ba729f6",
   "metadata": {},
   "outputs": [
    {
     "name": "stdout",
     "output_type": "stream",
     "text": [
      "[1 2 3 4 5]\n",
      "<class 'numpy.ndarray'>\n",
      "(5,)\n"
     ]
    }
   ],
   "source": [
    "## Create array using numpy\n",
    "## create a 1D array\n",
    "arr1 =np.array([1,2,3,4,5])\n",
    "print(arr1)\n",
    "print(type(arr1))\n",
    "print(arr1.shape)"
   ]
  },
  {
   "cell_type": "code",
   "execution_count": 58,
   "id": "f7f13c4f",
   "metadata": {},
   "outputs": [
    {
     "data": {
      "text/plain": [
       "array([[1, 2, 3, 4, 5]])"
      ]
     },
     "execution_count": 58,
     "metadata": {},
     "output_type": "execute_result"
    }
   ],
   "source": [
    "arr2 =np.array([[1,2,3,4,5]])\n",
    "arr2.reshape(1,5)\n"
   ]
  },
  {
   "cell_type": "code",
   "execution_count": 59,
   "id": "7a337d0c",
   "metadata": {},
   "outputs": [
    {
     "name": "stdout",
     "output_type": "stream",
     "text": [
      "[[ 1  2  3  4  5]\n",
      " [ 6  7  8  9 10]]\n",
      "(2, 5)\n"
     ]
    }
   ],
   "source": [
    "# 2d arrays\n",
    "arr2 =np.array([[1,2,3,4,5],[6,7,8,9,10]])\n",
    "print(arr2)\n",
    "print(arr2.shape)"
   ]
  },
  {
   "cell_type": "code",
   "execution_count": 60,
   "id": "c40123e2",
   "metadata": {},
   "outputs": [
    {
     "data": {
      "text/plain": [
       "array([[0],\n",
       "       [2],\n",
       "       [4],\n",
       "       [6],\n",
       "       [8]])"
      ]
     },
     "execution_count": 60,
     "metadata": {},
     "output_type": "execute_result"
    }
   ],
   "source": [
    "np.arange(0,10,2).reshape(5,1)"
   ]
  },
  {
   "cell_type": "code",
   "execution_count": 61,
   "id": "9fa43393",
   "metadata": {},
   "outputs": [
    {
     "data": {
      "text/plain": [
       "array([[1., 1., 1., 1.],\n",
       "       [1., 1., 1., 1.],\n",
       "       [1., 1., 1., 1.]])"
      ]
     },
     "execution_count": 61,
     "metadata": {},
     "output_type": "execute_result"
    }
   ],
   "source": [
    "np.ones((3,4))"
   ]
  },
  {
   "cell_type": "code",
   "execution_count": 62,
   "id": "4bf333f0",
   "metadata": {},
   "outputs": [
    {
     "data": {
      "text/plain": [
       "array([[1., 0., 0.],\n",
       "       [0., 1., 0.],\n",
       "       [0., 0., 1.]])"
      ]
     },
     "execution_count": 62,
     "metadata": {},
     "output_type": "execute_result"
    }
   ],
   "source": [
    "## identity matrix\n",
    "np.eye(3)"
   ]
  },
  {
   "cell_type": "code",
   "execution_count": 63,
   "id": "0e936662",
   "metadata": {},
   "outputs": [
    {
     "name": "stdout",
     "output_type": "stream",
     "text": [
      "Array:\n",
      " [[1 2 3]\n",
      " [4 5 6]\n",
      " [7 8 9]]\n",
      "Shape: (3, 3)\n",
      "Number of Dimensions: 2\n",
      "Size (number of elements): 9\n",
      "Item Size (in bytes): 8\n",
      "Data Type: int64\n"
     ]
    }
   ],
   "source": [
    "## Attributes of numpy arrays\n",
    "\n",
    "arr = np.array([[1,2,3],[4,5,6],[7,8,9]])\n",
    "print(\"Array:\\n\", arr)\n",
    "print(\"Shape:\", arr.shape) # Output: (3, 3)\n",
    "\n",
    "print(\"Number of Dimensions:\", arr.ndim) # Output: 2\n",
    "print(\"Size (number of elements):\", arr.size) # Output: 9\n",
    "print(\"Item Size (in bytes):\", arr.itemsize) # Output: 8 (or 4 depending on your system)\n",
    "print(\"Data Type:\", arr.dtype) # Output: int64 (or int32 depending on your system)"
   ]
  },
  {
   "cell_type": "code",
   "execution_count": 64,
   "id": "58613cf5",
   "metadata": {},
   "outputs": [
    {
     "name": "stdout",
     "output_type": "stream",
     "text": [
      "Addition: [11 22 33 44 55]\n",
      "Subtraction: [ 9 18 27 36 45]\n",
      "Multiplication: [ 10  40  90 160 250]\n",
      "Division: [10. 10. 10. 10. 10.]\n",
      "Exponentiation: [ 1  4  9 16 25]\n",
      "Square Root: [3.16227766 4.47213595 5.47722558 6.32455532 7.07106781]\n"
     ]
    }
   ],
   "source": [
    "## numpy vectorized operations\n",
    "\n",
    "arr1 = np.array([1,2,3,4,5])\n",
    "arr2 = np.array([10,20,30,40,50])\n",
    "\n",
    "# Element-wise addition\n",
    "print(\"Addition:\", arr1 + arr2) # Output: [11 22 33 44 55]\n",
    "# Element-wise subtraction\n",
    "print(\"Subtraction:\", arr2 - arr1) # Output: [ 9 18 27 36 45]\n",
    "# Element-wise multiplication\n",
    "print(\"Multiplication:\", arr1 * arr2) # Output: [ 10  40  90 160 250]\n",
    "# Element-wise division\n",
    "print(\"Division:\", arr2 / arr1) # Output: [10. 10. 10. 10. 10.]\n",
    "# Element-wise exponentiation\n",
    "print(\"Exponentiation:\", arr1 ** 2) # Output: [ 1  4  9 16 25]\n",
    "# Element-wise square root\n",
    "print(\"Square Root:\", np.sqrt(arr2)) # Output: [3.16227766 4.47213595 5.47722558 6.32455532 7.07106781]"
   ]
  },
  {
   "cell_type": "code",
   "execution_count": 65,
   "id": "de9ce9aa",
   "metadata": {},
   "outputs": [
    {
     "name": "stdout",
     "output_type": "stream",
     "text": [
      "Exponentiation: [  1  16  81 256 625]\n",
      "Square Root: [1. 2. 3. 4. 5.]\n",
      "Sine: [ 0.84147098 -0.7568025   0.41211849 -0.28790332 -0.13235175]\n",
      "Natural Logarithm: [0.         1.38629436 2.19722458 2.77258872 3.21887582]\n"
     ]
    }
   ],
   "source": [
    " ## Universal functions  in numpy\n",
    "\n",
    "arr = np.array([1, 4, 9, 16, 25])\n",
    "\n",
    "# Element-wise exponentiation\n",
    "print(\"Exponentiation:\", arr ** 2)\n",
    "\n",
    "# Element-wise square root\n",
    "print(\"Square Root:\", np.sqrt(arr))\n",
    "\n",
    "# sin function\n",
    "print(\"Sine:\", np.sin(arr))\n",
    "\n",
    "# natural logarithm\n",
    "print(\"Natural Logarithm:\", np.log(arr))\n",
    "\n",
    "\n"
   ]
  },
  {
   "cell_type": "code",
   "execution_count": 66,
   "id": "68fd83d7",
   "metadata": {},
   "outputs": [
    {
     "name": "stdout",
     "output_type": "stream",
     "text": [
      "Original Array:\n",
      " [[ 1  2  3  4  5]\n",
      " [ 6  7  8  9 10]\n",
      " [11 12 13 14 15]]\n"
     ]
    }
   ],
   "source": [
    " ## arra slicing and  indexing in numpy\n",
    "\n",
    "arr = np.array([[1, 2, 3, 4, 5],[6, 7, 8, 9, 10],[11, 12, 13, 14, 15]])\n",
    "\n",
    "print(\"Original Array:\\n\", arr)\n",
    "\n"
   ]
  },
  {
   "cell_type": "code",
   "execution_count": 67,
   "id": "a819d446",
   "metadata": {},
   "outputs": [
    {
     "data": {
      "text/plain": [
       "np.int64(1)"
      ]
     },
     "execution_count": 67,
     "metadata": {},
     "output_type": "execute_result"
    }
   ],
   "source": [
    "# Accessing elements\n",
    "arr[0] [0]"
   ]
  },
  {
   "cell_type": "code",
   "execution_count": 68,
   "id": "adc280a8",
   "metadata": {},
   "outputs": [
    {
     "data": {
      "text/plain": [
       "array([[ 6,  7,  8,  9, 10],\n",
       "       [11, 12, 13, 14, 15]])"
      ]
     },
     "execution_count": 68,
     "metadata": {},
     "output_type": "execute_result"
    }
   ],
   "source": [
    "arr[1:]"
   ]
  },
  {
   "cell_type": "code",
   "execution_count": 69,
   "id": "85d69032",
   "metadata": {},
   "outputs": [
    {
     "name": "stdout",
     "output_type": "stream",
     "text": [
      "[[100   2   3   4   5]\n",
      " [  6   7   8   9  10]\n",
      " [ 11  12  13  14  15]]\n"
     ]
    }
   ],
   "source": [
    "# modifying elements\n",
    "\n",
    "arr[0,0]=100\n",
    "print(arr)"
   ]
  },
  {
   "cell_type": "code",
   "execution_count": 70,
   "id": "26890209",
   "metadata": {},
   "outputs": [
    {
     "name": "stdout",
     "output_type": "stream",
     "text": [
      "[[100   2   3   4   5]\n",
      " [ 50  50  50  50  50]\n",
      " [ 50  50  50  50  50]]\n"
     ]
    }
   ],
   "source": [
    "arr[1:]=50\n",
    "print(arr)"
   ]
  },
  {
   "cell_type": "code",
   "execution_count": 71,
   "id": "f4fb1f0a",
   "metadata": {},
   "outputs": [
    {
     "name": "stdout",
     "output_type": "stream",
     "text": [
      "Normalized Data: [-1.41421356 -0.70710678  0.          0.70710678  1.41421356]\n"
     ]
    }
   ],
   "source": [
    "## statistical concepts--Normalization\n",
    "## to have a mean of 0 and standard deviation of 1\n",
    "\n",
    "data = np.array([10, 20, 30, 40, 50])\n",
    "\n",
    "## Calculate mean and standard deviation\n",
    "mean = np.mean(data)\n",
    "std_dev = np.std(data)\n",
    "\n",
    "## Normalize the data\n",
    "normalized_data = (data - mean) / std_dev\n",
    "print(\"Normalized Data:\", normalized_data)"
   ]
  },
  {
   "cell_type": "code",
   "execution_count": 72,
   "id": "265a6066",
   "metadata": {},
   "outputs": [
    {
     "name": "stdout",
     "output_type": "stream",
     "text": [
      "Mean: 5.5\n",
      "Median: 5.5\n",
      "Standard Deviation: 2.8722813232690143\n",
      "variance: 8.25\n"
     ]
    }
   ],
   "source": [
    "data = np.array([1,2,3,4,5,6,7,8,9,10])\n",
    "\n",
    "# Calculate mean\n",
    "mean = np.mean(data)\n",
    "print(\"Mean:\", mean)\n",
    "\n",
    "# Calculate median\n",
    "median = np.median(data)\n",
    "print(\"Median:\", median)\n",
    "\n",
    "# Calculate standard deviation\n",
    "std_dev = np.std(data)\n",
    "print(\"Standard Deviation:\", std_dev)\n",
    "\n",
    "# Calculate variance\n",
    "variance = np.var(data)\n",
    "print(\"variance:\", variance)"
   ]
  },
  {
   "cell_type": "code",
   "execution_count": 73,
   "id": "ff677294",
   "metadata": {},
   "outputs": [
    {
     "data": {
      "text/plain": [
       "array([6, 7])"
      ]
     },
     "execution_count": 73,
     "metadata": {},
     "output_type": "execute_result"
    }
   ],
   "source": [
    "# Logical operations in numpy\n",
    "\n",
    "data = np.array([1,2,3,4,5,6,7,8,9,10])\n",
    "\n",
    "data[(data > 5) & (data < 8)]\n",
    "\n",
    "# we can use and , or operators as well\n",
    "\n",
    "\n"
   ]
  },
  {
   "cell_type": "code",
   "execution_count": null,
   "id": "5346961b",
   "metadata": {},
   "outputs": [],
   "source": []
  }
 ],
 "metadata": {
  "kernelspec": {
   "display_name": "base",
   "language": "python",
   "name": "python3"
  },
  "language_info": {
   "codemirror_mode": {
    "name": "ipython",
    "version": 3
   },
   "file_extension": ".py",
   "mimetype": "text/x-python",
   "name": "python",
   "nbconvert_exporter": "python",
   "pygments_lexer": "ipython3",
   "version": "3.13.5"
  }
 },
 "nbformat": 4,
 "nbformat_minor": 5
}
