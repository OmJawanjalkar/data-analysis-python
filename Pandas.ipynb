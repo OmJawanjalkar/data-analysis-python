{
 "cells": [
  {
   "cell_type": "code",
   "execution_count": 2,
   "id": "5d189b24",
   "metadata": {},
   "outputs": [],
   "source": [
    "import pandas as pd"
   ]
  },
  {
   "cell_type": "code",
   "execution_count": null,
   "id": "36e5f533",
   "metadata": {},
   "outputs": [],
   "source": [
    "## series\n",
    "## A  Pandas Series is a one-dimensional array-like object that can hold various data types, including integers, floats, strings, and more. It is similar to a column in a spreadsheet or a database table.\n",
    "\n"
   ]
  }
 ],
 "metadata": {
  "kernelspec": {
   "display_name": "base",
   "language": "python",
   "name": "python3"
  },
  "language_info": {
   "codemirror_mode": {
    "name": "ipython",
    "version": 3
   },
   "file_extension": ".py",
   "mimetype": "text/x-python",
   "name": "python",
   "nbconvert_exporter": "python",
   "pygments_lexer": "ipython3",
   "version": "3.13.5"
  }
 },
 "nbformat": 4,
 "nbformat_minor": 5
}
